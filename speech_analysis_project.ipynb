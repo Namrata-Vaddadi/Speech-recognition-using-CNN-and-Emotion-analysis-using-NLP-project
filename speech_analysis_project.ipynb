{
  "nbformat": 4,
  "nbformat_minor": 0,
  "metadata": {
    "colab": {
      "provenance": []
    },
    "kernelspec": {
      "name": "python3",
      "display_name": "Python 3"
    },
    "language_info": {
      "name": "python"
    }
  },
  "cells": [
    {
      "cell_type": "code",
      "execution_count": 1,
      "metadata": {
        "id": "IEFacX5LY8yH"
      },
      "outputs": [],
      "source": [
        "import os\n",
        "import librosa # for speech\n",
        "import IPython.display as ipd\n",
        "import matplotlib.pyplot as plt\n",
        "import numpy as np\n",
        "from scipy.io import wavfile #for audio processing"
      ]
    },
    {
      "cell_type": "code",
      "source": [
        "#uploading the dataset file\n",
        "\n",
        "from google.colab import files\n",
        "\n",
        "uploaded = files.upload()"
      ],
      "metadata": {
        "colab": {
          "base_uri": "https://localhost:8080/",
          "height": 73
        },
        "id": "fvuSloeTbt3a",
        "outputId": "29c1c0a7-125c-4a7b-8bc8-cf3196817210"
      },
      "execution_count": 2,
      "outputs": [
        {
          "output_type": "display_data",
          "data": {
            "text/plain": [
              "<IPython.core.display.HTML object>"
            ],
            "text/html": [
              "\n",
              "     <input type=\"file\" id=\"files-8d60f09a-7be4-4198-9cf4-73c233e940e4\" name=\"files[]\" multiple disabled\n",
              "        style=\"border:none\" />\n",
              "     <output id=\"result-8d60f09a-7be4-4198-9cf4-73c233e940e4\">\n",
              "      Upload widget is only available when the cell has been executed in the\n",
              "      current browser session. Please rerun this cell to enable.\n",
              "      </output>\n",
              "      <script>// Copyright 2017 Google LLC\n",
              "//\n",
              "// Licensed under the Apache License, Version 2.0 (the \"License\");\n",
              "// you may not use this file except in compliance with the License.\n",
              "// You may obtain a copy of the License at\n",
              "//\n",
              "//      http://www.apache.org/licenses/LICENSE-2.0\n",
              "//\n",
              "// Unless required by applicable law or agreed to in writing, software\n",
              "// distributed under the License is distributed on an \"AS IS\" BASIS,\n",
              "// WITHOUT WARRANTIES OR CONDITIONS OF ANY KIND, either express or implied.\n",
              "// See the License for the specific language governing permissions and\n",
              "// limitations under the License.\n",
              "\n",
              "/**\n",
              " * @fileoverview Helpers for google.colab Python module.\n",
              " */\n",
              "(function(scope) {\n",
              "function span(text, styleAttributes = {}) {\n",
              "  const element = document.createElement('span');\n",
              "  element.textContent = text;\n",
              "  for (const key of Object.keys(styleAttributes)) {\n",
              "    element.style[key] = styleAttributes[key];\n",
              "  }\n",
              "  return element;\n",
              "}\n",
              "\n",
              "// Max number of bytes which will be uploaded at a time.\n",
              "const MAX_PAYLOAD_SIZE = 100 * 1024;\n",
              "\n",
              "function _uploadFiles(inputId, outputId) {\n",
              "  const steps = uploadFilesStep(inputId, outputId);\n",
              "  const outputElement = document.getElementById(outputId);\n",
              "  // Cache steps on the outputElement to make it available for the next call\n",
              "  // to uploadFilesContinue from Python.\n",
              "  outputElement.steps = steps;\n",
              "\n",
              "  return _uploadFilesContinue(outputId);\n",
              "}\n",
              "\n",
              "// This is roughly an async generator (not supported in the browser yet),\n",
              "// where there are multiple asynchronous steps and the Python side is going\n",
              "// to poll for completion of each step.\n",
              "// This uses a Promise to block the python side on completion of each step,\n",
              "// then passes the result of the previous step as the input to the next step.\n",
              "function _uploadFilesContinue(outputId) {\n",
              "  const outputElement = document.getElementById(outputId);\n",
              "  const steps = outputElement.steps;\n",
              "\n",
              "  const next = steps.next(outputElement.lastPromiseValue);\n",
              "  return Promise.resolve(next.value.promise).then((value) => {\n",
              "    // Cache the last promise value to make it available to the next\n",
              "    // step of the generator.\n",
              "    outputElement.lastPromiseValue = value;\n",
              "    return next.value.response;\n",
              "  });\n",
              "}\n",
              "\n",
              "/**\n",
              " * Generator function which is called between each async step of the upload\n",
              " * process.\n",
              " * @param {string} inputId Element ID of the input file picker element.\n",
              " * @param {string} outputId Element ID of the output display.\n",
              " * @return {!Iterable<!Object>} Iterable of next steps.\n",
              " */\n",
              "function* uploadFilesStep(inputId, outputId) {\n",
              "  const inputElement = document.getElementById(inputId);\n",
              "  inputElement.disabled = false;\n",
              "\n",
              "  const outputElement = document.getElementById(outputId);\n",
              "  outputElement.innerHTML = '';\n",
              "\n",
              "  const pickedPromise = new Promise((resolve) => {\n",
              "    inputElement.addEventListener('change', (e) => {\n",
              "      resolve(e.target.files);\n",
              "    });\n",
              "  });\n",
              "\n",
              "  const cancel = document.createElement('button');\n",
              "  inputElement.parentElement.appendChild(cancel);\n",
              "  cancel.textContent = 'Cancel upload';\n",
              "  const cancelPromise = new Promise((resolve) => {\n",
              "    cancel.onclick = () => {\n",
              "      resolve(null);\n",
              "    };\n",
              "  });\n",
              "\n",
              "  // Wait for the user to pick the files.\n",
              "  const files = yield {\n",
              "    promise: Promise.race([pickedPromise, cancelPromise]),\n",
              "    response: {\n",
              "      action: 'starting',\n",
              "    }\n",
              "  };\n",
              "\n",
              "  cancel.remove();\n",
              "\n",
              "  // Disable the input element since further picks are not allowed.\n",
              "  inputElement.disabled = true;\n",
              "\n",
              "  if (!files) {\n",
              "    return {\n",
              "      response: {\n",
              "        action: 'complete',\n",
              "      }\n",
              "    };\n",
              "  }\n",
              "\n",
              "  for (const file of files) {\n",
              "    const li = document.createElement('li');\n",
              "    li.append(span(file.name, {fontWeight: 'bold'}));\n",
              "    li.append(span(\n",
              "        `(${file.type || 'n/a'}) - ${file.size} bytes, ` +\n",
              "        `last modified: ${\n",
              "            file.lastModifiedDate ? file.lastModifiedDate.toLocaleDateString() :\n",
              "                                    'n/a'} - `));\n",
              "    const percent = span('0% done');\n",
              "    li.appendChild(percent);\n",
              "\n",
              "    outputElement.appendChild(li);\n",
              "\n",
              "    const fileDataPromise = new Promise((resolve) => {\n",
              "      const reader = new FileReader();\n",
              "      reader.onload = (e) => {\n",
              "        resolve(e.target.result);\n",
              "      };\n",
              "      reader.readAsArrayBuffer(file);\n",
              "    });\n",
              "    // Wait for the data to be ready.\n",
              "    let fileData = yield {\n",
              "      promise: fileDataPromise,\n",
              "      response: {\n",
              "        action: 'continue',\n",
              "      }\n",
              "    };\n",
              "\n",
              "    // Use a chunked sending to avoid message size limits. See b/62115660.\n",
              "    let position = 0;\n",
              "    do {\n",
              "      const length = Math.min(fileData.byteLength - position, MAX_PAYLOAD_SIZE);\n",
              "      const chunk = new Uint8Array(fileData, position, length);\n",
              "      position += length;\n",
              "\n",
              "      const base64 = btoa(String.fromCharCode.apply(null, chunk));\n",
              "      yield {\n",
              "        response: {\n",
              "          action: 'append',\n",
              "          file: file.name,\n",
              "          data: base64,\n",
              "        },\n",
              "      };\n",
              "\n",
              "      let percentDone = fileData.byteLength === 0 ?\n",
              "          100 :\n",
              "          Math.round((position / fileData.byteLength) * 100);\n",
              "      percent.textContent = `${percentDone}% done`;\n",
              "\n",
              "    } while (position < fileData.byteLength);\n",
              "  }\n",
              "\n",
              "  // All done.\n",
              "  yield {\n",
              "    response: {\n",
              "      action: 'complete',\n",
              "    }\n",
              "  };\n",
              "}\n",
              "\n",
              "scope.google = scope.google || {};\n",
              "scope.google.colab = scope.google.colab || {};\n",
              "scope.google.colab._files = {\n",
              "  _uploadFiles,\n",
              "  _uploadFilesContinue,\n",
              "};\n",
              "})(self);\n",
              "</script> "
            ]
          },
          "metadata": {}
        },
        {
          "output_type": "stream",
          "name": "stdout",
          "text": [
            "Saving Dataset.zip to Dataset.zip\n"
          ]
        }
      ]
    },
    {
      "cell_type": "code",
      "source": [
        "#unzipping the dataset file\n",
        "\n",
        "import zipfile\n",
        "import io\n",
        "\n",
        "# Assuming 'Dataset.zip' is the uploaded file name\n",
        "zip_ref = zipfile.ZipFile(io.BytesIO(uploaded['Dataset.zip']), 'r')\n",
        "zip_ref.extractall('/content/')\n",
        "zip_ref.close()\n"
      ],
      "metadata": {
        "id": "_1C0bBdNcBgJ"
      },
      "execution_count": 3,
      "outputs": []
    },
    {
      "cell_type": "code",
      "source": [
        "train_dir = '/content/train'\n"
      ],
      "metadata": {
        "id": "Dm_jBdpwcEi5"
      },
      "execution_count": 4,
      "outputs": []
    },
    {
      "cell_type": "code",
      "source": [
        "samples,sample_rate=librosa.load(train_dir + '/bed/35c8fa78_nohash_0.wav',sr=16000)\n",
        "ipd.Audio(samples,rate=sample_rate)\n",
        "print(sample_rate)"
      ],
      "metadata": {
        "colab": {
          "base_uri": "https://localhost:8080/"
        },
        "id": "K7-DxtDKcjoH",
        "outputId": "8b616f56-87b4-49aa-da58-57f64197df4d"
      },
      "execution_count": 5,
      "outputs": [
        {
          "output_type": "stream",
          "name": "stdout",
          "text": [
            "16000\n"
          ]
        }
      ]
    },
    {
      "cell_type": "code",
      "source": [
        "samples=librosa.resample(y=samples, orig_sr=sample_rate, target_sr=8000)\n",
        "ipd.Audio(samples,rate=8000)"
      ],
      "metadata": {
        "colab": {
          "base_uri": "https://localhost:8080/",
          "height": 75
        },
        "id": "eS2rRh1ijPtQ",
        "outputId": "7528f72d-6aed-4637-d9e5-3914ee643e2b"
      },
      "execution_count": 6,
      "outputs": [
        {
          "output_type": "execute_result",
          "data": {
            "text/plain": [
              "<IPython.lib.display.Audio object>"
            ],
            "text/html": [
              "\n",
              "                <audio  controls=\"controls\" >\n",
              "                    <source src=\"data:audio/wav;base64,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\" type=\"audio/wav\" />\n",
              "                    Your browser does not support the audio element.\n",
              "                </audio>\n",
              "              "
            ]
          },
          "metadata": {},
          "execution_count": 6
        }
      ]
    },
    {
      "cell_type": "code",
      "source": [
        "labels=os.listdir(train_dir)\n",
        "no_of_recordings=[]\n",
        "for label in labels:\n",
        "  waves=[f for f in os.listdir(train_dir + '/' + label) if f.endswith('.wav')]\n",
        "  no_of_recordings.append(len(waves))\n",
        "\n",
        "labels=[\"bed\",\"bird\",\"cat\",\"dog\",\"down\",\"eight\"]"
      ],
      "metadata": {
        "id": "DlDqRt-pkJTl"
      },
      "execution_count": 7,
      "outputs": []
    },
    {
      "cell_type": "code",
      "source": [
        "duration_of_recordings=[]\n",
        "for label in labels:\n",
        "  waves=[f for f in os.listdir(train_dir + '/' + label) if f.endswith('.wav')]\n",
        "  for wav in waves:\n",
        "    sample_rate,samples=wavfile.read(train_dir + '/' +label + '/' +wav)\n",
        "    duration_of_recordings.append(float(len(samples)/sample_rate))\n",
        "\n",
        "plt.hist(np.array(duration_of_recordings))"
      ],
      "metadata": {
        "colab": {
          "base_uri": "https://localhost:8080/",
          "height": 517
        },
        "id": "vDjDUkS_k9i5",
        "outputId": "7b68f3a4-a8dd-41e1-f2e7-1fa0d97f08bf"
      },
      "execution_count": 8,
      "outputs": [
        {
          "output_type": "execute_result",
          "data": {
            "text/plain": [
              "(array([1.000e+00, 0.000e+00, 2.000e+00, 4.000e+00, 1.000e+01, 1.300e+01,\n",
              "        2.300e+01, 3.400e+01, 3.400e+01, 1.079e+03]),\n",
              " array([0.418 , 0.4762, 0.5344, 0.5926, 0.6508, 0.709 , 0.7672, 0.8254,\n",
              "        0.8836, 0.9418, 1.    ]),\n",
              " <BarContainer object of 10 artists>)"
            ]
          },
          "metadata": {},
          "execution_count": 8
        },
        {
          "output_type": "display_data",
          "data": {
            "text/plain": [
              "<Figure size 640x480 with 1 Axes>"
            ],
            "image/png": "[encoded data removed]"
          },
          "metadata": {}
        }
      ]
    },
    {
      "cell_type": "code",
      "source": [
        "train_dir='train/'\n",
        "all_wave=[]\n",
        "all_label=[]\n",
        "for label in labels:\n",
        "  print(label)\n",
        "  waves=[f for f in os.listdir(train_dir + '/' + label) if f.endswith('.wav')]\n",
        "  for wav in waves:\n",
        "    samples,sample_rate=librosa.load(train_dir + '/' + label + '/' + wav,sr=16000)\n",
        "    samples=librosa.resample(y=samples,orig_sr=sample_rate,target_sr=8000)\n",
        "    if (len(samples)==8000):\n",
        "      all_wave.append(samples)\n",
        "      all_label.append(label)"
      ],
      "metadata": {
        "colab": {
          "base_uri": "https://localhost:8080/"
        },
        "id": "I9HXm5Mel6rN",
        "outputId": "4a76ad27-298c-4bc8-a280-3c62273b6e0b"
      },
      "execution_count": 9,
      "outputs": [
        {
          "output_type": "stream",
          "name": "stdout",
          "text": [
            "bed\n",
            "bird\n",
            "cat\n",
            "dog\n",
            "down\n",
            "eight\n"
          ]
        }
      ]
    },
    {
      "cell_type": "code",
      "source": [
        "from sklearn.preprocessing import LabelEncoder\n",
        "le=LabelEncoder()\n",
        "y=le.fit_transform(all_label)\n",
        "classes=list(le.classes_)\n",
        "print(classes)"
      ],
      "metadata": {
        "colab": {
          "base_uri": "https://localhost:8080/"
        },
        "id": "4oDYyGYZnVLY",
        "outputId": "49c4060c-3416-4ea3-e9b4-d5407699c563"
      },
      "execution_count": 10,
      "outputs": [
        {
          "output_type": "stream",
          "name": "stdout",
          "text": [
            "[np.str_('bed'), np.str_('bird'), np.str_('cat'), np.str_('dog'), np.str_('down'), np.str_('eight')]\n"
          ]
        }
      ]
    },
    {
      "cell_type": "code",
      "source": [
        "from tensorflow.keras.utils import to_categorical\n",
        "y = to_categorical(y, num_classes=len(labels))\n"
      ],
      "metadata": {
        "id": "E6jAsTSToPtA"
      },
      "execution_count": 11,
      "outputs": []
    },
    {
      "cell_type": "code",
      "source": [
        "all_wave=np.array(all_wave).reshape(-1,8000,1)"
      ],
      "metadata": {
        "id": "K5cyUFmoo1cj"
      },
      "execution_count": 12,
      "outputs": []
    },
    {
      "cell_type": "code",
      "source": [
        "from sklearn.model_selection import train_test_split\n",
        "x_train,x_val,y_train,y_val=train_test_split(np.array(all_wave),np.array(y),stratify=y,test_size=0.2,random_state=777,shuffle=True)"
      ],
      "metadata": {
        "id": "4MAd58DopGPv"
      },
      "execution_count": 13,
      "outputs": []
    },
    {
      "cell_type": "code",
      "source": [
        "from keras.layers import Dense, Dropout, Flatten, Conv1D, Input, MaxPooling1D\n",
        "from keras.models import Model\n",
        "from keras.callbacks import EarlyStopping, ModelCheckpoint\n",
        "from keras import backend as k\n",
        "k.clear_session()\n",
        "\n",
        "inputs=Input(shape=(8000,1))\n",
        "\n",
        "#1st layer\n",
        "conv=Conv1D(8,13,padding='valid',activation='relu',strides=1)(inputs)\n",
        "conv=MaxPooling1D(3)(conv)\n",
        "conv=Dropout(0.3)(conv)\n",
        "\n",
        "#2nd layer\n",
        "conv=Conv1D(16,11,padding='valid',activation='relu',strides=1)(conv)\n",
        "conv=MaxPooling1D(3)(conv)\n",
        "conv=Dropout(0.3)(conv)\n",
        "\n",
        "#3rd layer\n",
        "conv=Conv1D(32,9,padding='valid',activation='relu',strides=1)(conv)\n",
        "conv=MaxPooling1D(3)(conv)\n",
        "conv=Dropout(0.3)(conv)\n",
        "\n",
        "#4th layer\n",
        "conv=Conv1D(64,7,padding='valid',activation='relu',strides=1)(conv)\n",
        "conv=MaxPooling1D(3)(conv)\n",
        "conv=Dropout(0.3)(conv)\n",
        "\n",
        "#flatten layer\n",
        "conv=Flatten()(conv)\n",
        "\n",
        "#dense layer 1\n",
        "conv=Dense(256,activation='relu')(conv)\n",
        "conv=Dropout(0.3)(conv)\n",
        "\n",
        "#dense layer 2\n",
        "conv=Dense(128,activation='relu')(conv)\n",
        "conv=Dropout(0.3)(conv)\n",
        "\n",
        "outputs=Dense(len(labels),activation='softmax')(conv)\n",
        "\n",
        "\n",
        "model=Model(inputs,outputs)\n",
        "model.summary()\n"
      ],
      "metadata": {
        "colab": {
          "base_uri": "https://localhost:8080/",
          "height": 782
        },
        "id": "O5uBSNjspq7C",
        "outputId": "2ef5654f-f2de-4127-c6f1-6c16d7bb79d2"
      },
      "execution_count": 14,
      "outputs": [
        {
          "output_type": "display_data",
          "data": {
            "text/plain": [
              "\u001b[1mModel: \"functional\"\u001b[0m\n"
            ],
            "text/html": [
              "<pre style=\"white-space:pre;overflow-x:auto;line-height:normal;font-family:Menlo,'DejaVu Sans Mono',consolas,'Courier New',monospace\"><span style=\"font-weight: bold\">Model: \"functional\"</span>\n",
              "</pre>\n"
            ]
          },
          "metadata": {}
        },
        {
          "output_type": "display_data",
          "data": {
            "text/plain": [
              "┏━━━━━━━━━━━━━━━━━━━━━━━━━━━━━━━━━┳━━━━━━━━━━━━━━━━━━━━━━━━┳━━━━━━━━━━━━━━━┓\n",
              "┃\u001b[1m \u001b[0m\u001b[1mLayer (type)                   \u001b[0m\u001b[1m \u001b[0m┃\u001b[1m \u001b[0m\u001b[1mOutput Shape          \u001b[0m\u001b[1m \u001b[0m┃\u001b[1m \u001b[0m\u001b[1m      Param #\u001b[0m\u001b[1m \u001b[0m┃\n",
              "┡━━━━━━━━━━━━━━━━━━━━━━━━━━━━━━━━━╇━━━━━━━━━━━━━━━━━━━━━━━━╇━━━━━━━━━━━━━━━┩\n",
              "│ input_layer (\u001b[38;5;33mInputLayer\u001b[0m)        │ (\u001b[38;5;45mNone\u001b[0m, \u001b[38;5;34m8000\u001b[0m, \u001b[38;5;34m1\u001b[0m)        │             \u001b[38;5;34m0\u001b[0m │\n",
              "├─────────────────────────────────┼────────────────────────┼───────────────┤\n",
              "│ conv1d (\u001b[38;5;33mConv1D\u001b[0m)                 │ (\u001b[38;5;45mNone\u001b[0m, \u001b[38;5;34m7988\u001b[0m, \u001b[38;5;34m8\u001b[0m)        │           \u001b[38;5;34m112\u001b[0m │\n",
              "├─────────────────────────────────┼────────────────────────┼───────────────┤\n",
              "│ max_pooling1d (\u001b[38;5;33mMaxPooling1D\u001b[0m)    │ (\u001b[38;5;45mNone\u001b[0m, \u001b[38;5;34m2662\u001b[0m, \u001b[38;5;34m8\u001b[0m)        │             \u001b[38;5;34m0\u001b[0m │\n",
              "├─────────────────────────────────┼────────────────────────┼───────────────┤\n",
              "│ dropout (\u001b[38;5;33mDropout\u001b[0m)               │ (\u001b[38;5;45mNone\u001b[0m, \u001b[38;5;34m2662\u001b[0m, \u001b[38;5;34m8\u001b[0m)        │             \u001b[38;5;34m0\u001b[0m │\n",
              "├─────────────────────────────────┼────────────────────────┼───────────────┤\n",
              "│ conv1d_1 (\u001b[38;5;33mConv1D\u001b[0m)               │ (\u001b[38;5;45mNone\u001b[0m, \u001b[38;5;34m2652\u001b[0m, \u001b[38;5;34m16\u001b[0m)       │         \u001b[38;5;34m1,424\u001b[0m │\n",
              "├─────────────────────────────────┼────────────────────────┼───────────────┤\n",
              "│ max_pooling1d_1 (\u001b[38;5;33mMaxPooling1D\u001b[0m)  │ (\u001b[38;5;45mNone\u001b[0m, \u001b[38;5;34m884\u001b[0m, \u001b[38;5;34m16\u001b[0m)        │             \u001b[38;5;34m0\u001b[0m │\n",
              "├─────────────────────────────────┼────────────────────────┼───────────────┤\n",
              "│ dropout_1 (\u001b[38;5;33mDropout\u001b[0m)             │ (\u001b[38;5;45mNone\u001b[0m, \u001b[38;5;34m884\u001b[0m, \u001b[38;5;34m16\u001b[0m)        │             \u001b[38;5;34m0\u001b[0m │\n",
              "├─────────────────────────────────┼────────────────────────┼───────────────┤\n",
              "│ conv1d_2 (\u001b[38;5;33mConv1D\u001b[0m)               │ (\u001b[38;5;45mNone\u001b[0m, \u001b[38;5;34m876\u001b[0m, \u001b[38;5;34m32\u001b[0m)        │         \u001b[38;5;34m4,640\u001b[0m │\n",
              "├─────────────────────────────────┼────────────────────────┼───────────────┤\n",
              "│ max_pooling1d_2 (\u001b[38;5;33mMaxPooling1D\u001b[0m)  │ (\u001b[38;5;45mNone\u001b[0m, \u001b[38;5;34m292\u001b[0m, \u001b[38;5;34m32\u001b[0m)        │             \u001b[38;5;34m0\u001b[0m │\n",
              "├─────────────────────────────────┼────────────────────────┼───────────────┤\n",
              "│ dropout_2 (\u001b[38;5;33mDropout\u001b[0m)             │ (\u001b[38;5;45mNone\u001b[0m, \u001b[38;5;34m292\u001b[0m, \u001b[38;5;34m32\u001b[0m)        │             \u001b[38;5;34m0\u001b[0m │\n",
              "├─────────────────────────────────┼────────────────────────┼───────────────┤\n",
              "│ conv1d_3 (\u001b[38;5;33mConv1D\u001b[0m)               │ (\u001b[38;5;45mNone\u001b[0m, \u001b[38;5;34m286\u001b[0m, \u001b[38;5;34m64\u001b[0m)        │        \u001b[38;5;34m14,400\u001b[0m │\n",
              "├─────────────────────────────────┼────────────────────────┼───────────────┤\n",
              "│ max_pooling1d_3 (\u001b[38;5;33mMaxPooling1D\u001b[0m)  │ (\u001b[38;5;45mNone\u001b[0m, \u001b[38;5;34m95\u001b[0m, \u001b[38;5;34m64\u001b[0m)         │             \u001b[38;5;34m0\u001b[0m │\n",
              "├─────────────────────────────────┼────────────────────────┼───────────────┤\n",
              "│ dropout_3 (\u001b[38;5;33mDropout\u001b[0m)             │ (\u001b[38;5;45mNone\u001b[0m, \u001b[38;5;34m95\u001b[0m, \u001b[38;5;34m64\u001b[0m)         │             \u001b[38;5;34m0\u001b[0m │\n",
              "├─────────────────────────────────┼────────────────────────┼───────────────┤\n",
              "│ flatten (\u001b[38;5;33mFlatten\u001b[0m)               │ (\u001b[38;5;45mNone\u001b[0m, \u001b[38;5;34m6080\u001b[0m)           │             \u001b[38;5;34m0\u001b[0m │\n",
              "├─────────────────────────────────┼────────────────────────┼───────────────┤\n",
              "│ dense (\u001b[38;5;33mDense\u001b[0m)                   │ (\u001b[38;5;45mNone\u001b[0m, \u001b[38;5;34m256\u001b[0m)            │     \u001b[38;5;34m1,556,736\u001b[0m │\n",
              "├─────────────────────────────────┼────────────────────────┼───────────────┤\n",
              "│ dropout_4 (\u001b[38;5;33mDropout\u001b[0m)             │ (\u001b[38;5;45mNone\u001b[0m, \u001b[38;5;34m256\u001b[0m)            │             \u001b[38;5;34m0\u001b[0m │\n",
              "├─────────────────────────────────┼────────────────────────┼───────────────┤\n",
              "│ dense_1 (\u001b[38;5;33mDense\u001b[0m)                 │ (\u001b[38;5;45mNone\u001b[0m, \u001b[38;5;34m128\u001b[0m)            │        \u001b[38;5;34m32,896\u001b[0m │\n",
              "├─────────────────────────────────┼────────────────────────┼───────────────┤\n",
              "│ dropout_5 (\u001b[38;5;33mDropout\u001b[0m)             │ (\u001b[38;5;45mNone\u001b[0m, \u001b[38;5;34m128\u001b[0m)            │             \u001b[38;5;34m0\u001b[0m │\n",
              "├─────────────────────────────────┼────────────────────────┼───────────────┤\n",
              "│ dense_2 (\u001b[38;5;33mDense\u001b[0m)                 │ (\u001b[38;5;45mNone\u001b[0m, \u001b[38;5;34m6\u001b[0m)              │           \u001b[38;5;34m774\u001b[0m │\n",
              "└─────────────────────────────────┴────────────────────────┴───────────────┘\n"
            ],
            "text/html": [
              "<pre style=\"white-space:pre;overflow-x:auto;line-height:normal;font-family:Menlo,'DejaVu Sans Mono',consolas,'Courier New',monospace\">┏━━━━━━━━━━━━━━━━━━━━━━━━━━━━━━━━━┳━━━━━━━━━━━━━━━━━━━━━━━━┳━━━━━━━━━━━━━━━┓\n",
              "┃<span style=\"font-weight: bold\"> Layer (type)                    </span>┃<span style=\"font-weight: bold\"> Output Shape           </span>┃<span style=\"font-weight: bold\">       Param # </span>┃\n",
              "┡━━━━━━━━━━━━━━━━━━━━━━━━━━━━━━━━━╇━━━━━━━━━━━━━━━━━━━━━━━━╇━━━━━━━━━━━━━━━┩\n",
              "│ input_layer (<span style=\"color: #0087ff; text-decoration-color: #0087ff\">InputLayer</span>)        │ (<span style=\"color: #00d7ff; text-decoration-color: #00d7ff\">None</span>, <span style=\"color: #00af00; text-decoration-color: #00af00\">8000</span>, <span style=\"color: #00af00; text-decoration-color: #00af00\">1</span>)        │             <span style=\"color: #00af00; text-decoration-color: #00af00\">0</span> │\n",
              "├─────────────────────────────────┼────────────────────────┼───────────────┤\n",
              "│ conv1d (<span style=\"color: #0087ff; text-decoration-color: #0087ff\">Conv1D</span>)                 │ (<span style=\"color: #00d7ff; text-decoration-color: #00d7ff\">None</span>, <span style=\"color: #00af00; text-decoration-color: #00af00\">7988</span>, <span style=\"color: #00af00; text-decoration-color: #00af00\">8</span>)        │           <span style=\"color: #00af00; text-decoration-color: #00af00\">112</span> │\n",
              "├─────────────────────────────────┼────────────────────────┼───────────────┤\n",
              "│ max_pooling1d (<span style=\"color: #0087ff; text-decoration-color: #0087ff\">MaxPooling1D</span>)    │ (<span style=\"color: #00d7ff; text-decoration-color: #00d7ff\">None</span>, <span style=\"color: #00af00; text-decoration-color: #00af00\">2662</span>, <span style=\"color: #00af00; text-decoration-color: #00af00\">8</span>)        │             <span style=\"color: #00af00; text-decoration-color: #00af00\">0</span> │\n",
              "├─────────────────────────────────┼────────────────────────┼───────────────┤\n",
              "│ dropout (<span style=\"color: #0087ff; text-decoration-color: #0087ff\">Dropout</span>)               │ (<span style=\"color: #00d7ff; text-decoration-color: #00d7ff\">None</span>, <span style=\"color: #00af00; text-decoration-color: #00af00\">2662</span>, <span style=\"color: #00af00; text-decoration-color: #00af00\">8</span>)        │             <span style=\"color: #00af00; text-decoration-color: #00af00\">0</span> │\n",
              "├─────────────────────────────────┼────────────────────────┼───────────────┤\n",
              "│ conv1d_1 (<span style=\"color: #0087ff; text-decoration-color: #0087ff\">Conv1D</span>)               │ (<span style=\"color: #00d7ff; text-decoration-color: #00d7ff\">None</span>, <span style=\"color: #00af00; text-decoration-color: #00af00\">2652</span>, <span style=\"color: #00af00; text-decoration-color: #00af00\">16</span>)       │         <span style=\"color: #00af00; text-decoration-color: #00af00\">1,424</span> │\n",
              "├─────────────────────────────────┼────────────────────────┼───────────────┤\n",
              "│ max_pooling1d_1 (<span style=\"color: #0087ff; text-decoration-color: #0087ff\">MaxPooling1D</span>)  │ (<span style=\"color: #00d7ff; text-decoration-color: #00d7ff\">None</span>, <span style=\"color: #00af00; text-decoration-color: #00af00\">884</span>, <span style=\"color: #00af00; text-decoration-color: #00af00\">16</span>)        │             <span style=\"color: #00af00; text-decoration-color: #00af00\">0</span> │\n",
              "├─────────────────────────────────┼────────────────────────┼───────────────┤\n",
              "│ dropout_1 (<span style=\"color: #0087ff; text-decoration-color: #0087ff\">Dropout</span>)             │ (<span style=\"color: #00d7ff; text-decoration-color: #00d7ff\">None</span>, <span style=\"color: #00af00; text-decoration-color: #00af00\">884</span>, <span style=\"color: #00af00; text-decoration-color: #00af00\">16</span>)        │             <span style=\"color: #00af00; text-decoration-color: #00af00\">0</span> │\n",
              "├─────────────────────────────────┼────────────────────────┼───────────────┤\n",
              "│ conv1d_2 (<span style=\"color: #0087ff; text-decoration-color: #0087ff\">Conv1D</span>)               │ (<span style=\"color: #00d7ff; text-decoration-color: #00d7ff\">None</span>, <span style=\"color: #00af00; text-decoration-color: #00af00\">876</span>, <span style=\"color: #00af00; text-decoration-color: #00af00\">32</span>)        │         <span style=\"color: #00af00; text-decoration-color: #00af00\">4,640</span> │\n",
              "├─────────────────────────────────┼────────────────────────┼───────────────┤\n",
              "│ max_pooling1d_2 (<span style=\"color: #0087ff; text-decoration-color: #0087ff\">MaxPooling1D</span>)  │ (<span style=\"color: #00d7ff; text-decoration-color: #00d7ff\">None</span>, <span style=\"color: #00af00; text-decoration-color: #00af00\">292</span>, <span style=\"color: #00af00; text-decoration-color: #00af00\">32</span>)        │             <span style=\"color: #00af00; text-decoration-color: #00af00\">0</span> │\n",
              "├─────────────────────────────────┼────────────────────────┼───────────────┤\n",
              "│ dropout_2 (<span style=\"color: #0087ff; text-decoration-color: #0087ff\">Dropout</span>)             │ (<span style=\"color: #00d7ff; text-decoration-color: #00d7ff\">None</span>, <span style=\"color: #00af00; text-decoration-color: #00af00\">292</span>, <span style=\"color: #00af00; text-decoration-color: #00af00\">32</span>)        │             <span style=\"color: #00af00; text-decoration-color: #00af00\">0</span> │\n",
              "├─────────────────────────────────┼────────────────────────┼───────────────┤\n",
              "│ conv1d_3 (<span style=\"color: #0087ff; text-decoration-color: #0087ff\">Conv1D</span>)               │ (<span style=\"color: #00d7ff; text-decoration-color: #00d7ff\">None</span>, <span style=\"color: #00af00; text-decoration-color: #00af00\">286</span>, <span style=\"color: #00af00; text-decoration-color: #00af00\">64</span>)        │        <span style=\"color: #00af00; text-decoration-color: #00af00\">14,400</span> │\n",
              "├─────────────────────────────────┼────────────────────────┼───────────────┤\n",
              "│ max_pooling1d_3 (<span style=\"color: #0087ff; text-decoration-color: #0087ff\">MaxPooling1D</span>)  │ (<span style=\"color: #00d7ff; text-decoration-color: #00d7ff\">None</span>, <span style=\"color: #00af00; text-decoration-color: #00af00\">95</span>, <span style=\"color: #00af00; text-decoration-color: #00af00\">64</span>)         │             <span style=\"color: #00af00; text-decoration-color: #00af00\">0</span> │\n",
              "├─────────────────────────────────┼────────────────────────┼───────────────┤\n",
              "│ dropout_3 (<span style=\"color: #0087ff; text-decoration-color: #0087ff\">Dropout</span>)             │ (<span style=\"color: #00d7ff; text-decoration-color: #00d7ff\">None</span>, <span style=\"color: #00af00; text-decoration-color: #00af00\">95</span>, <span style=\"color: #00af00; text-decoration-color: #00af00\">64</span>)         │             <span style=\"color: #00af00; text-decoration-color: #00af00\">0</span> │\n",
              "├─────────────────────────────────┼────────────────────────┼───────────────┤\n",
              "│ flatten (<span style=\"color: #0087ff; text-decoration-color: #0087ff\">Flatten</span>)               │ (<span style=\"color: #00d7ff; text-decoration-color: #00d7ff\">None</span>, <span style=\"color: #00af00; text-decoration-color: #00af00\">6080</span>)           │             <span style=\"color: #00af00; text-decoration-color: #00af00\">0</span> │\n",
              "├─────────────────────────────────┼────────────────────────┼───────────────┤\n",
              "│ dense (<span style=\"color: #0087ff; text-decoration-color: #0087ff\">Dense</span>)                   │ (<span style=\"color: #00d7ff; text-decoration-color: #00d7ff\">None</span>, <span style=\"color: #00af00; text-decoration-color: #00af00\">256</span>)            │     <span style=\"color: #00af00; text-decoration-color: #00af00\">1,556,736</span> │\n",
              "├─────────────────────────────────┼────────────────────────┼───────────────┤\n",
              "│ dropout_4 (<span style=\"color: #0087ff; text-decoration-color: #0087ff\">Dropout</span>)             │ (<span style=\"color: #00d7ff; text-decoration-color: #00d7ff\">None</span>, <span style=\"color: #00af00; text-decoration-color: #00af00\">256</span>)            │             <span style=\"color: #00af00; text-decoration-color: #00af00\">0</span> │\n",
              "├─────────────────────────────────┼────────────────────────┼───────────────┤\n",
              "│ dense_1 (<span style=\"color: #0087ff; text-decoration-color: #0087ff\">Dense</span>)                 │ (<span style=\"color: #00d7ff; text-decoration-color: #00d7ff\">None</span>, <span style=\"color: #00af00; text-decoration-color: #00af00\">128</span>)            │        <span style=\"color: #00af00; text-decoration-color: #00af00\">32,896</span> │\n",
              "├─────────────────────────────────┼────────────────────────┼───────────────┤\n",
              "│ dropout_5 (<span style=\"color: #0087ff; text-decoration-color: #0087ff\">Dropout</span>)             │ (<span style=\"color: #00d7ff; text-decoration-color: #00d7ff\">None</span>, <span style=\"color: #00af00; text-decoration-color: #00af00\">128</span>)            │             <span style=\"color: #00af00; text-decoration-color: #00af00\">0</span> │\n",
              "├─────────────────────────────────┼────────────────────────┼───────────────┤\n",
              "│ dense_2 (<span style=\"color: #0087ff; text-decoration-color: #0087ff\">Dense</span>)                 │ (<span style=\"color: #00d7ff; text-decoration-color: #00d7ff\">None</span>, <span style=\"color: #00af00; text-decoration-color: #00af00\">6</span>)              │           <span style=\"color: #00af00; text-decoration-color: #00af00\">774</span> │\n",
              "└─────────────────────────────────┴────────────────────────┴───────────────┘\n",
              "</pre>\n"
            ]
          },
          "metadata": {}
        },
        {
          "output_type": "display_data",
          "data": {
            "text/plain": [
              "\u001b[1m Total params: \u001b[0m\u001b[38;5;34m1,610,982\u001b[0m (6.15 MB)\n"
            ],
            "text/html": [
              "<pre style=\"white-space:pre;overflow-x:auto;line-height:normal;font-family:Menlo,'DejaVu Sans Mono',consolas,'Courier New',monospace\"><span style=\"font-weight: bold\"> Total params: </span><span style=\"color: #00af00; text-decoration-color: #00af00\">1,610,982</span> (6.15 MB)\n",
              "</pre>\n"
            ]
          },
          "metadata": {}
        },
        {
          "output_type": "display_data",
          "data": {
            "text/plain": [
              "\u001b[1m Trainable params: \u001b[0m\u001b[38;5;34m1,610,982\u001b[0m (6.15 MB)\n"
            ],
            "text/html": [
              "<pre style=\"white-space:pre;overflow-x:auto;line-height:normal;font-family:Menlo,'DejaVu Sans Mono',consolas,'Courier New',monospace\"><span style=\"font-weight: bold\"> Trainable params: </span><span style=\"color: #00af00; text-decoration-color: #00af00\">1,610,982</span> (6.15 MB)\n",
              "</pre>\n"
            ]
          },
          "metadata": {}
        },
        {
          "output_type": "display_data",
          "data": {
            "text/plain": [
              "\u001b[1m Non-trainable params: \u001b[0m\u001b[38;5;34m0\u001b[0m (0.00 B)\n"
            ],
            "text/html": [
              "<pre style=\"white-space:pre;overflow-x:auto;line-height:normal;font-family:Menlo,'DejaVu Sans Mono',consolas,'Courier New',monospace\"><span style=\"font-weight: bold\"> Non-trainable params: </span><span style=\"color: #00af00; text-decoration-color: #00af00\">0</span> (0.00 B)\n",
              "</pre>\n"
            ]
          },
          "metadata": {}
        }
      ]
    },
    {
      "cell_type": "code",
      "source": [
        "model.compile(loss='categorical_crossentropy',optimizer='adam',metrics=['accuracy'])"
      ],
      "metadata": {
        "id": "q4c3k2gOty0q"
      },
      "execution_count": 15,
      "outputs": []
    },
    {
      "cell_type": "code",
      "source": [
        "es=EarlyStopping(monitor='val_loss',mode='min',verbose=1,patience=10, min_delta=0.0001)\n",
        "mc=ModelCheckpoint('voiceRecModel.keras',monitor='val_acc',verbose=1,save_best_only=True,mode='max')\n",
        "print(x_train.shape,x_val.shape,y_train.shape,y_val.shape)"
      ],
      "metadata": {
        "colab": {
          "base_uri": "https://localhost:8080/"
        },
        "id": "M_qpwIjPxM_f",
        "outputId": "fa86e36c-ff21-4dbb-8e85-288074299ee3"
      },
      "execution_count": 17,
      "outputs": [
        {
          "output_type": "stream",
          "name": "stdout",
          "text": [
            "(836, 8000, 1) (210, 8000, 1) (836, 6) (210, 6)\n"
          ]
        }
      ]
    },
    {
      "cell_type": "code",
      "source": [
        "history=model.fit(x_train,y_train,epochs=50,callbacks=[es,mc],batch_size=8,validation_data=(x_val,y_val))"
      ],
      "metadata": {
        "colab": {
          "base_uri": "https://localhost:8080/"
        },
        "id": "aE3TJgJS1WK1",
        "outputId": "3ede878b-4285-4fc4-bba7-3778a57419cb"
      },
      "execution_count": 18,
      "outputs": [
        {
          "output_type": "stream",
          "name": "stdout",
          "text": [
            "Epoch 1/50\n",
            "\u001b[1m105/105\u001b[0m \u001b[32m━━━━━━━━━━━━━━━━━━━━\u001b[0m\u001b[37m\u001b[0m \u001b[1m18s\u001b[0m 101ms/step - accuracy: 0.1719 - loss: 1.7974 - val_accuracy: 0.2095 - val_loss: 1.7900\n",
            "Epoch 2/50\n"
          ]
        },
        {
          "output_type": "stream",
          "name": "stderr",
          "text": [
            "/usr/local/lib/python3.12/dist-packages/keras/src/callbacks/model_checkpoint.py:302: UserWarning: Can save best model only with val_acc available.\n",
            "  if self._should_save_model(epoch, batch, logs, filepath):\n"
          ]
        },
        {
          "output_type": "stream",
          "name": "stdout",
          "text": [
            "\u001b[1m105/105\u001b[0m \u001b[32m━━━━━━━━━━━━━━━━━━━━\u001b[0m\u001b[37m\u001b[0m \u001b[1m20s\u001b[0m 98ms/step - accuracy: 0.1919 - loss: 1.7834 - val_accuracy: 0.2000 - val_loss: 1.7887\n",
            "Epoch 3/50\n",
            "\u001b[1m105/105\u001b[0m \u001b[32m━━━━━━━━━━━━━━━━━━━━\u001b[0m\u001b[37m\u001b[0m \u001b[1m10s\u001b[0m 100ms/step - accuracy: 0.2106 - loss: 1.7841 - val_accuracy: 0.2619 - val_loss: 1.7762\n",
            "Epoch 4/50\n",
            "\u001b[1m105/105\u001b[0m \u001b[32m━━━━━━━━━━━━━━━━━━━━\u001b[0m\u001b[37m\u001b[0m \u001b[1m10s\u001b[0m 99ms/step - accuracy: 0.1956 - loss: 1.7924 - val_accuracy: 0.1762 - val_loss: 1.7906\n",
            "Epoch 5/50\n",
            "\u001b[1m105/105\u001b[0m \u001b[32m━━━━━━━━━━━━━━━━━━━━\u001b[0m\u001b[37m\u001b[0m \u001b[1m12s\u001b[0m 118ms/step - accuracy: 0.2251 - loss: 1.7659 - val_accuracy: 0.2333 - val_loss: 1.7500\n",
            "Epoch 6/50\n",
            "\u001b[1m105/105\u001b[0m \u001b[32m━━━━━━━━━━━━━━━━━━━━\u001b[0m\u001b[37m\u001b[0m \u001b[1m9s\u001b[0m 89ms/step - accuracy: 0.2440 - loss: 1.7333 - val_accuracy: 0.2143 - val_loss: 1.7658\n",
            "Epoch 7/50\n",
            "\u001b[1m105/105\u001b[0m \u001b[32m━━━━━━━━━━━━━━━━━━━━\u001b[0m\u001b[37m\u001b[0m \u001b[1m11s\u001b[0m 93ms/step - accuracy: 0.3063 - loss: 1.7181 - val_accuracy: 0.3143 - val_loss: 1.6040\n",
            "Epoch 8/50\n",
            "\u001b[1m105/105\u001b[0m \u001b[32m━━━━━━━━━━━━━━━━━━━━\u001b[0m\u001b[37m\u001b[0m \u001b[1m10s\u001b[0m 98ms/step - accuracy: 0.3406 - loss: 1.6084 - val_accuracy: 0.3190 - val_loss: 1.5734\n",
            "Epoch 9/50\n",
            "\u001b[1m105/105\u001b[0m \u001b[32m━━━━━━━━━━━━━━━━━━━━\u001b[0m\u001b[37m\u001b[0m \u001b[1m21s\u001b[0m 100ms/step - accuracy: 0.3592 - loss: 1.5993 - val_accuracy: 0.2905 - val_loss: 1.6390\n",
            "Epoch 10/50\n",
            "\u001b[1m105/105\u001b[0m \u001b[32m━━━━━━━━━━━━━━━━━━━━\u001b[0m\u001b[37m\u001b[0m \u001b[1m20s\u001b[0m 95ms/step - accuracy: 0.3796 - loss: 1.4563 - val_accuracy: 0.2762 - val_loss: 1.6179\n",
            "Epoch 11/50\n",
            "\u001b[1m105/105\u001b[0m \u001b[32m━━━━━━━━━━━━━━━━━━━━\u001b[0m\u001b[37m\u001b[0m \u001b[1m11s\u001b[0m 100ms/step - accuracy: 0.4281 - loss: 1.4147 - val_accuracy: 0.3000 - val_loss: 1.6362\n",
            "Epoch 12/50\n",
            "\u001b[1m105/105\u001b[0m \u001b[32m━━━━━━━━━━━━━━━━━━━━\u001b[0m\u001b[37m\u001b[0m \u001b[1m21s\u001b[0m 102ms/step - accuracy: 0.3877 - loss: 1.4143 - val_accuracy: 0.3095 - val_loss: 1.5658\n",
            "Epoch 13/50\n",
            "\u001b[1m105/105\u001b[0m \u001b[32m━━━━━━━━━━━━━━━━━━━━\u001b[0m\u001b[37m\u001b[0m \u001b[1m20s\u001b[0m 95ms/step - accuracy: 0.4402 - loss: 1.3524 - val_accuracy: 0.3095 - val_loss: 1.5710\n",
            "Epoch 14/50\n",
            "\u001b[1m105/105\u001b[0m \u001b[32m━━━━━━━━━━━━━━━━━━━━\u001b[0m\u001b[37m\u001b[0m \u001b[1m11s\u001b[0m 101ms/step - accuracy: 0.4325 - loss: 1.3332 - val_accuracy: 0.4095 - val_loss: 1.4150\n",
            "Epoch 15/50\n",
            "\u001b[1m105/105\u001b[0m \u001b[32m━━━━━━━━━━━━━━━━━━━━\u001b[0m\u001b[37m\u001b[0m \u001b[1m20s\u001b[0m 98ms/step - accuracy: 0.4680 - loss: 1.3072 - val_accuracy: 0.4429 - val_loss: 1.3170\n",
            "Epoch 16/50\n",
            "\u001b[1m105/105\u001b[0m \u001b[32m━━━━━━━━━━━━━━━━━━━━\u001b[0m\u001b[37m\u001b[0m \u001b[1m20s\u001b[0m 94ms/step - accuracy: 0.4994 - loss: 1.2188 - val_accuracy: 0.3810 - val_loss: 1.5366\n",
            "Epoch 17/50\n",
            "\u001b[1m105/105\u001b[0m \u001b[32m━━━━━━━━━━━━━━━━━━━━\u001b[0m\u001b[37m\u001b[0m \u001b[1m10s\u001b[0m 97ms/step - accuracy: 0.5211 - loss: 1.1653 - val_accuracy: 0.4048 - val_loss: 1.4090\n",
            "Epoch 18/50\n",
            "\u001b[1m105/105\u001b[0m \u001b[32m━━━━━━━━━━━━━━━━━━━━\u001b[0m\u001b[37m\u001b[0m \u001b[1m20s\u001b[0m 97ms/step - accuracy: 0.5306 - loss: 1.1811 - val_accuracy: 0.3810 - val_loss: 1.6096\n",
            "Epoch 19/50\n",
            "\u001b[1m105/105\u001b[0m \u001b[32m━━━━━━━━━━━━━━━━━━━━\u001b[0m\u001b[37m\u001b[0m \u001b[1m9s\u001b[0m 88ms/step - accuracy: 0.5333 - loss: 1.1218 - val_accuracy: 0.4000 - val_loss: 1.6196\n",
            "Epoch 20/50\n",
            "\u001b[1m105/105\u001b[0m \u001b[32m━━━━━━━━━━━━━━━━━━━━\u001b[0m\u001b[37m\u001b[0m \u001b[1m10s\u001b[0m 99ms/step - accuracy: 0.5592 - loss: 1.0564 - val_accuracy: 0.4333 - val_loss: 1.3901\n",
            "Epoch 21/50\n",
            "\u001b[1m105/105\u001b[0m \u001b[32m━━━━━━━━━━━━━━━━━━━━\u001b[0m\u001b[37m\u001b[0m \u001b[1m20s\u001b[0m 99ms/step - accuracy: 0.5715 - loss: 1.0415 - val_accuracy: 0.4333 - val_loss: 1.4371\n",
            "Epoch 22/50\n",
            "\u001b[1m105/105\u001b[0m \u001b[32m━━━━━━━━━━━━━━━━━━━━\u001b[0m\u001b[37m\u001b[0m \u001b[1m19s\u001b[0m 88ms/step - accuracy: 0.6043 - loss: 1.0003 - val_accuracy: 0.5333 - val_loss: 1.1965\n",
            "Epoch 23/50\n",
            "\u001b[1m105/105\u001b[0m \u001b[32m━━━━━━━━━━━━━━━━━━━━\u001b[0m\u001b[37m\u001b[0m \u001b[1m10s\u001b[0m 95ms/step - accuracy: 0.6601 - loss: 0.9182 - val_accuracy: 0.4762 - val_loss: 1.5608\n",
            "Epoch 24/50\n",
            "\u001b[1m105/105\u001b[0m \u001b[32m━━━━━━━━━━━━━━━━━━━━\u001b[0m\u001b[37m\u001b[0m \u001b[1m10s\u001b[0m 99ms/step - accuracy: 0.6350 - loss: 0.8996 - val_accuracy: 0.4571 - val_loss: 1.5089\n",
            "Epoch 25/50\n",
            "\u001b[1m105/105\u001b[0m \u001b[32m━━━━━━━━━━━━━━━━━━━━\u001b[0m\u001b[37m\u001b[0m \u001b[1m20s\u001b[0m 94ms/step - accuracy: 0.6519 - loss: 0.9166 - val_accuracy: 0.5238 - val_loss: 1.2760\n",
            "Epoch 26/50\n",
            "\u001b[1m105/105\u001b[0m \u001b[32m━━━━━━━━━━━━━━━━━━━━\u001b[0m\u001b[37m\u001b[0m \u001b[1m10s\u001b[0m 88ms/step - accuracy: 0.6927 - loss: 0.7709 - val_accuracy: 0.5667 - val_loss: 1.1362\n",
            "Epoch 27/50\n",
            "\u001b[1m105/105\u001b[0m \u001b[32m━━━━━━━━━━━━━━━━━━━━\u001b[0m\u001b[37m\u001b[0m \u001b[1m11s\u001b[0m 96ms/step - accuracy: 0.6986 - loss: 0.8147 - val_accuracy: 0.4952 - val_loss: 1.4287\n",
            "Epoch 28/50\n",
            "\u001b[1m105/105\u001b[0m \u001b[32m━━━━━━━━━━━━━━━━━━━━\u001b[0m\u001b[37m\u001b[0m \u001b[1m10s\u001b[0m 99ms/step - accuracy: 0.6981 - loss: 0.7277 - val_accuracy: 0.5524 - val_loss: 1.3754\n",
            "Epoch 29/50\n",
            "\u001b[1m105/105\u001b[0m \u001b[32m━━━━━━━━━━━━━━━━━━━━\u001b[0m\u001b[37m\u001b[0m \u001b[1m21s\u001b[0m 102ms/step - accuracy: 0.7174 - loss: 0.7517 - val_accuracy: 0.5190 - val_loss: 1.3200\n",
            "Epoch 30/50\n",
            "\u001b[1m105/105\u001b[0m \u001b[32m━━━━━━━━━━━━━━━━━━━━\u001b[0m\u001b[37m\u001b[0m \u001b[1m20s\u001b[0m 97ms/step - accuracy: 0.7038 - loss: 0.8118 - val_accuracy: 0.6000 - val_loss: 1.0502\n",
            "Epoch 31/50\n",
            "\u001b[1m105/105\u001b[0m \u001b[32m━━━━━━━━━━━━━━━━━━━━\u001b[0m\u001b[37m\u001b[0m \u001b[1m21s\u001b[0m 100ms/step - accuracy: 0.7575 - loss: 0.6922 - val_accuracy: 0.5810 - val_loss: 1.1517\n",
            "Epoch 32/50\n",
            "\u001b[1m105/105\u001b[0m \u001b[32m━━━━━━━━━━━━━━━━━━━━\u001b[0m\u001b[37m\u001b[0m \u001b[1m19s\u001b[0m 87ms/step - accuracy: 0.7283 - loss: 0.7214 - val_accuracy: 0.5952 - val_loss: 1.1704\n",
            "Epoch 33/50\n",
            "\u001b[1m105/105\u001b[0m \u001b[32m━━━━━━━━━━━━━━━━━━━━\u001b[0m\u001b[37m\u001b[0m \u001b[1m10s\u001b[0m 91ms/step - accuracy: 0.8009 - loss: 0.5603 - val_accuracy: 0.5429 - val_loss: 1.3587\n",
            "Epoch 34/50\n",
            "\u001b[1m105/105\u001b[0m \u001b[32m━━━━━━━━━━━━━━━━━━━━\u001b[0m\u001b[37m\u001b[0m \u001b[1m10s\u001b[0m 91ms/step - accuracy: 0.7943 - loss: 0.5345 - val_accuracy: 0.5762 - val_loss: 1.2577\n",
            "Epoch 35/50\n",
            "\u001b[1m105/105\u001b[0m \u001b[32m━━━━━━━━━━━━━━━━━━━━\u001b[0m\u001b[37m\u001b[0m \u001b[1m9s\u001b[0m 88ms/step - accuracy: 0.7553 - loss: 0.5948 - val_accuracy: 0.5476 - val_loss: 1.6298\n",
            "Epoch 36/50\n",
            "\u001b[1m105/105\u001b[0m \u001b[32m━━━━━━━━━━━━━━━━━━━━\u001b[0m\u001b[37m\u001b[0m \u001b[1m8s\u001b[0m 79ms/step - accuracy: 0.7940 - loss: 0.5150 - val_accuracy: 0.5952 - val_loss: 1.2373\n",
            "Epoch 37/50\n",
            "\u001b[1m105/105\u001b[0m \u001b[32m━━━━━━━━━━━━━━━━━━━━\u001b[0m\u001b[37m\u001b[0m \u001b[1m10s\u001b[0m 92ms/step - accuracy: 0.8102 - loss: 0.4901 - val_accuracy: 0.6476 - val_loss: 1.1793\n",
            "Epoch 38/50\n",
            "\u001b[1m105/105\u001b[0m \u001b[32m━━━━━━━━━━━━━━━━━━━━\u001b[0m\u001b[37m\u001b[0m \u001b[1m9s\u001b[0m 90ms/step - accuracy: 0.8432 - loss: 0.4316 - val_accuracy: 0.6095 - val_loss: 1.1882\n",
            "Epoch 39/50\n",
            "\u001b[1m105/105\u001b[0m \u001b[32m━━━━━━━━━━━━━━━━━━━━\u001b[0m\u001b[37m\u001b[0m \u001b[1m9s\u001b[0m 83ms/step - accuracy: 0.8466 - loss: 0.4396 - val_accuracy: 0.5857 - val_loss: 1.4466\n",
            "Epoch 40/50\n",
            "\u001b[1m105/105\u001b[0m \u001b[32m━━━━━━━━━━━━━━━━━━━━\u001b[0m\u001b[37m\u001b[0m \u001b[1m10s\u001b[0m 91ms/step - accuracy: 0.8448 - loss: 0.4353 - val_accuracy: 0.5095 - val_loss: 1.7209\n",
            "Epoch 40: early stopping\n"
          ]
        }
      ]
    },
    {
      "cell_type": "code",
      "source": [
        "model.save('voiceRecModel.keras')"
      ],
      "metadata": {
        "id": "0XeDySswA75A"
      },
      "execution_count": 19,
      "outputs": []
    },
    {
      "cell_type": "code",
      "source": [
        "from keras.models import load_model\n",
        "model=load_model('voiceRecModel.keras')"
      ],
      "metadata": {
        "id": "Re12_jYwBA4y"
      },
      "execution_count": 22,
      "outputs": []
    },
    {
      "cell_type": "code",
      "source": [
        "def predict(audio):\n",
        "  prob=model.predict(audio.reshape(1,8000,1))\n",
        "  index=np.argmax(prob[0])\n",
        "  return classes[index]\n",
        "\n",
        "\n",
        "import random\n",
        "index=random.randint(0,len(x_val)-1)\n",
        "samples=x_val[index].ravel()\n",
        "print(\"Audio:\",classes[np.argmax(y_val[index])])\n",
        "ipd.Audio(samples,rate=8000)"
      ],
      "metadata": {
        "colab": {
          "base_uri": "https://localhost:8080/",
          "height": 93
        },
        "id": "nwi1H1XeEPUW",
        "outputId": "5ab4cbce-a3f0-44e0-d60f-2328c6f4237d"
      },
      "execution_count": 23,
      "outputs": [
        {
          "output_type": "stream",
          "name": "stdout",
          "text": [
            "Audio: eight\n"
          ]
        },
        {
          "output_type": "execute_result",
          "data": {
            "text/plain": [
              "<IPython.lib.display.Audio object>"
            ],
            "text/html": [
              "\n",
              "                <audio  controls=\"controls\" >\n",
              "                    <source src=\"data:audio/wav;base64,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\" type=\"audio/wav\" />\n",
              "                    Your browser does not support the audio element.\n",
              "                </audio>\n",
              "              "
            ]
          },
          "metadata": {},
          "execution_count": 23
        }
      ]
    },
    {
      "cell_type": "code",
      "source": [
        "print('Text:',predict(samples))"
      ],
      "metadata": {
        "colab": {
          "base_uri": "https://localhost:8080/"
        },
        "id": "DZqsE83tPHfg",
        "outputId": "4278bc4f-8a1c-427c-a46e-5fb6dba1ffaf"
      },
      "execution_count": 24,
      "outputs": [
        {
          "output_type": "stream",
          "name": "stdout",
          "text": [
            "\u001b[1m1/1\u001b[0m \u001b[32m━━━━━━━━━━━━━━━━━━━━\u001b[0m\u001b[37m\u001b[0m \u001b[1m0s\u001b[0m 268ms/step\n",
            "Text: eight\n"
          ]
        }
      ]
    },
    {
      "cell_type": "code",
      "source": [
        "import time\n",
        "from google.colab import files\n",
        "\n",
        "model.save('voiceRecModel.keras')  # or your model filename and format\n",
        "time.sleep(5)  # wait to ensure file is saved completely\n",
        "files.download('voiceRecModel.keras')\n"
      ],
      "metadata": {
        "colab": {
          "base_uri": "https://localhost:8080/",
          "height": 17
        },
        "id": "K_uyCkbuQfin",
        "outputId": "df7a1628-eab6-4a14-adad-83013a027277"
      },
      "execution_count": 25,
      "outputs": [
        {
          "output_type": "display_data",
          "data": {
            "text/plain": [
              "<IPython.core.display.Javascript object>"
            ],
            "application/javascript": [
              "\n",
              "    async function download(id, filename, size) {\n",
              "      if (!google.colab.kernel.accessAllowed) {\n",
              "        return;\n",
              "      }\n",
              "      const div = document.createElement('div');\n",
              "      const label = document.createElement('label');\n",
              "      label.textContent = `Downloading \"${filename}\": `;\n",
              "      div.appendChild(label);\n",
              "      const progress = document.createElement('progress');\n",
              "      progress.max = size;\n",
              "      div.appendChild(progress);\n",
              "      document.body.appendChild(div);\n",
              "\n",
              "      const buffers = [];\n",
              "      let downloaded = 0;\n",
              "\n",
              "      const channel = await google.colab.kernel.comms.open(id);\n",
              "      // Send a message to notify the kernel that we're ready.\n",
              "      channel.send({})\n",
              "\n",
              "      for await (const message of channel.messages) {\n",
              "        // Send a message to notify the kernel that we're ready.\n",
              "        channel.send({})\n",
              "        if (message.buffers) {\n",
              "          for (const buffer of message.buffers) {\n",
              "            buffers.push(buffer);\n",
              "            downloaded += buffer.byteLength;\n",
              "            progress.value = downloaded;\n",
              "          }\n",
              "        }\n",
              "      }\n",
              "      const blob = new Blob(buffers, {type: 'application/binary'});\n",
              "      const a = document.createElement('a');\n",
              "      a.href = window.URL.createObjectURL(blob);\n",
              "      a.download = filename;\n",
              "      div.appendChild(a);\n",
              "      a.click();\n",
              "      div.remove();\n",
              "    }\n",
              "  "
            ]
          },
          "metadata": {}
        },
        {
          "output_type": "display_data",
          "data": {
            "text/plain": [
              "<IPython.core.display.Javascript object>"
            ],
            "application/javascript": [
              "download(\"download_7f02b9f6-d197-4f55-9085-418f15dcb69a\", \"voiceRecModel.keras\", 19407419)"
            ]
          },
          "metadata": {}
        }
      ]
    }
  ]
}